{
 "cells": [
  {
   "cell_type": "code",
   "execution_count": 1,
   "id": "bb9a9b9b",
   "metadata": {
    "collapsed": true,
    "jupyter": {
     "outputs_hidden": true
    }
   },
   "outputs": [
    {
     "name": "stderr",
     "output_type": "stream",
     "text": [
      "C:\\Users\\Yash\\anaconda3\\lib\\site-packages\\scipy\\__init__.py:146: UserWarning: A NumPy version >=1.16.5 and <1.23.0 is required for this version of SciPy (detected version 1.26.4\n",
      "  warnings.warn(f\"A NumPy version >={np_minversion} and <{np_maxversion}\"\n"
     ]
    },
    {
     "name": "stdout",
     "output_type": "stream",
     "text": [
      "WARNING:tensorflow:From C:\\Users\\Yash\\anaconda3\\lib\\site-packages\\keras\\src\\losses.py:2976: The name tf.losses.sparse_softmax_cross_entropy is deprecated. Please use tf.compat.v1.losses.sparse_softmax_cross_entropy instead.\n",
      "\n"
     ]
    }
   ],
   "source": [
    "import numpy as np\n",
    "import pandas as pd\n",
    "import matplotlib.pyplot as plt\n",
    "from sklearn.preprocessing import MinMaxScaler\n",
    "from tensorflow.keras.models import Sequential\n",
    "from tensorflow.keras.layers import LSTM, Dense"
   ]
  },
  {
   "cell_type": "code",
   "execution_count": 5,
   "id": "27710f1c",
   "metadata": {},
   "outputs": [
    {
     "data": {
      "text/html": [
       "<div>\n",
       "<style scoped>\n",
       "    .dataframe tbody tr th:only-of-type {\n",
       "        vertical-align: middle;\n",
       "    }\n",
       "\n",
       "    .dataframe tbody tr th {\n",
       "        vertical-align: top;\n",
       "    }\n",
       "\n",
       "    .dataframe thead th {\n",
       "        text-align: right;\n",
       "    }\n",
       "</style>\n",
       "<table border=\"1\" class=\"dataframe\">\n",
       "  <thead>\n",
       "    <tr style=\"text-align: right;\">\n",
       "      <th></th>\n",
       "      <th>Date</th>\n",
       "      <th>Open</th>\n",
       "      <th>High</th>\n",
       "      <th>Low</th>\n",
       "      <th>Close</th>\n",
       "      <th>Adj Close</th>\n",
       "      <th>Volume</th>\n",
       "    </tr>\n",
       "  </thead>\n",
       "  <tbody>\n",
       "    <tr>\n",
       "      <th>0</th>\n",
       "      <td>2004-08-19</td>\n",
       "      <td>49.813286</td>\n",
       "      <td>51.835709</td>\n",
       "      <td>47.800831</td>\n",
       "      <td>49.982655</td>\n",
       "      <td>49.982655</td>\n",
       "      <td>44871300</td>\n",
       "    </tr>\n",
       "    <tr>\n",
       "      <th>1</th>\n",
       "      <td>2004-08-20</td>\n",
       "      <td>50.316402</td>\n",
       "      <td>54.336334</td>\n",
       "      <td>50.062355</td>\n",
       "      <td>53.952770</td>\n",
       "      <td>53.952770</td>\n",
       "      <td>22942800</td>\n",
       "    </tr>\n",
       "    <tr>\n",
       "      <th>2</th>\n",
       "      <td>2004-08-23</td>\n",
       "      <td>55.168217</td>\n",
       "      <td>56.528118</td>\n",
       "      <td>54.321388</td>\n",
       "      <td>54.495735</td>\n",
       "      <td>54.495735</td>\n",
       "      <td>18342800</td>\n",
       "    </tr>\n",
       "    <tr>\n",
       "      <th>3</th>\n",
       "      <td>2004-08-24</td>\n",
       "      <td>55.412300</td>\n",
       "      <td>55.591629</td>\n",
       "      <td>51.591621</td>\n",
       "      <td>52.239193</td>\n",
       "      <td>52.239193</td>\n",
       "      <td>15319700</td>\n",
       "    </tr>\n",
       "    <tr>\n",
       "      <th>4</th>\n",
       "      <td>2004-08-25</td>\n",
       "      <td>52.284027</td>\n",
       "      <td>53.798351</td>\n",
       "      <td>51.746044</td>\n",
       "      <td>52.802086</td>\n",
       "      <td>52.802086</td>\n",
       "      <td>9232100</td>\n",
       "    </tr>\n",
       "    <tr>\n",
       "      <th>...</th>\n",
       "      <td>...</td>\n",
       "      <td>...</td>\n",
       "      <td>...</td>\n",
       "      <td>...</td>\n",
       "      <td>...</td>\n",
       "      <td>...</td>\n",
       "      <td>...</td>\n",
       "    </tr>\n",
       "    <tr>\n",
       "      <th>3804</th>\n",
       "      <td>2019-09-30</td>\n",
       "      <td>1220.969971</td>\n",
       "      <td>1226.000000</td>\n",
       "      <td>1212.300049</td>\n",
       "      <td>1219.000000</td>\n",
       "      <td>1219.000000</td>\n",
       "      <td>1404100</td>\n",
       "    </tr>\n",
       "    <tr>\n",
       "      <th>3805</th>\n",
       "      <td>2019-10-01</td>\n",
       "      <td>1219.000000</td>\n",
       "      <td>1231.229980</td>\n",
       "      <td>1203.579956</td>\n",
       "      <td>1205.099976</td>\n",
       "      <td>1205.099976</td>\n",
       "      <td>1273500</td>\n",
       "    </tr>\n",
       "    <tr>\n",
       "      <th>3806</th>\n",
       "      <td>2019-10-02</td>\n",
       "      <td>1196.979980</td>\n",
       "      <td>1196.979980</td>\n",
       "      <td>1171.290039</td>\n",
       "      <td>1176.630005</td>\n",
       "      <td>1176.630005</td>\n",
       "      <td>1615100</td>\n",
       "    </tr>\n",
       "    <tr>\n",
       "      <th>3807</th>\n",
       "      <td>2019-10-03</td>\n",
       "      <td>1180.000000</td>\n",
       "      <td>1189.060059</td>\n",
       "      <td>1162.430054</td>\n",
       "      <td>1187.829956</td>\n",
       "      <td>1187.829956</td>\n",
       "      <td>1621200</td>\n",
       "    </tr>\n",
       "    <tr>\n",
       "      <th>3808</th>\n",
       "      <td>2019-10-04</td>\n",
       "      <td>1191.890015</td>\n",
       "      <td>1211.439941</td>\n",
       "      <td>1189.170044</td>\n",
       "      <td>1209.000000</td>\n",
       "      <td>1209.000000</td>\n",
       "      <td>1021092</td>\n",
       "    </tr>\n",
       "  </tbody>\n",
       "</table>\n",
       "<p>3809 rows × 7 columns</p>\n",
       "</div>"
      ],
      "text/plain": [
       "            Date         Open         High          Low        Close  \\\n",
       "0     2004-08-19    49.813286    51.835709    47.800831    49.982655   \n",
       "1     2004-08-20    50.316402    54.336334    50.062355    53.952770   \n",
       "2     2004-08-23    55.168217    56.528118    54.321388    54.495735   \n",
       "3     2004-08-24    55.412300    55.591629    51.591621    52.239193   \n",
       "4     2004-08-25    52.284027    53.798351    51.746044    52.802086   \n",
       "...          ...          ...          ...          ...          ...   \n",
       "3804  2019-09-30  1220.969971  1226.000000  1212.300049  1219.000000   \n",
       "3805  2019-10-01  1219.000000  1231.229980  1203.579956  1205.099976   \n",
       "3806  2019-10-02  1196.979980  1196.979980  1171.290039  1176.630005   \n",
       "3807  2019-10-03  1180.000000  1189.060059  1162.430054  1187.829956   \n",
       "3808  2019-10-04  1191.890015  1211.439941  1189.170044  1209.000000   \n",
       "\n",
       "        Adj Close    Volume  \n",
       "0       49.982655  44871300  \n",
       "1       53.952770  22942800  \n",
       "2       54.495735  18342800  \n",
       "3       52.239193  15319700  \n",
       "4       52.802086   9232100  \n",
       "...           ...       ...  \n",
       "3804  1219.000000   1404100  \n",
       "3805  1205.099976   1273500  \n",
       "3806  1176.630005   1615100  \n",
       "3807  1187.829956   1621200  \n",
       "3808  1209.000000   1021092  \n",
       "\n",
       "[3809 rows x 7 columns]"
      ]
     },
     "execution_count": 5,
     "metadata": {},
     "output_type": "execute_result"
    }
   ],
   "source": [
    "df = pd.read_csv(\"google_stock_prices.csv\")\n",
    "df"
   ]
  },
  {
   "cell_type": "code",
   "execution_count": 6,
   "id": "faf9e76e",
   "metadata": {},
   "outputs": [],
   "source": [
    "# Extract Close prices\n",
    "data = df['Close'].values.reshape(-1, 1)"
   ]
  },
  {
   "cell_type": "code",
   "execution_count": 7,
   "id": "ea76f990",
   "metadata": {},
   "outputs": [],
   "source": [
    "# Step 3: Preprocess the Data\n",
    "scaler = MinMaxScaler(feature_range=(0, 1))\n",
    "scaled_data = scaler.fit_transform(data)"
   ]
  },
  {
   "cell_type": "code",
   "execution_count": 8,
   "id": "c560cfc6",
   "metadata": {},
   "outputs": [],
   "source": [
    "# Create sequences for input to RNN\n",
    "def create_sequences(data, seq_length):\n",
    "    X, y = [], []\n",
    "    for i in range(len(data) - seq_length):\n",
    "        X.append(data[i:i+seq_length])\n",
    "        y.append(data[i+seq_length])\n",
    "    return np.array(X), np.array(y)"
   ]
  },
  {
   "cell_type": "code",
   "execution_count": 9,
   "id": "9c9754c4",
   "metadata": {},
   "outputs": [],
   "source": [
    "seq_length = 20  # Number of time steps to look back\n",
    "X, y = create_sequences(scaled_data, seq_length)"
   ]
  },
  {
   "cell_type": "code",
   "execution_count": 10,
   "id": "4cc63762",
   "metadata": {},
   "outputs": [],
   "source": [
    "# Split data into training and testing sets\n",
    "split = int(0.8 * len(X))\n",
    "X_train, X_test = X[:split], X[split:]\n",
    "y_train, y_test = y[:split], y[split:]\n"
   ]
  },
  {
   "cell_type": "code",
   "execution_count": 11,
   "id": "5197fa6f",
   "metadata": {},
   "outputs": [
    {
     "name": "stdout",
     "output_type": "stream",
     "text": [
      "WARNING:tensorflow:From C:\\Users\\Yash\\anaconda3\\lib\\site-packages\\keras\\src\\layers\\rnn\\lstm.py:148: The name tf.executing_eagerly_outside_functions is deprecated. Please use tf.compat.v1.executing_eagerly_outside_functions instead.\n",
      "\n"
     ]
    }
   ],
   "source": [
    "# Step 4: Build the RNN Model\n",
    "model = Sequential([\n",
    "    LSTM(units=50, return_sequences=True, input_shape=(X_train.shape[1], 1)),\n",
    "    LSTM(units=50, return_sequences=False),\n",
    "    Dense(units=1)\n",
    "])"
   ]
  },
  {
   "cell_type": "code",
   "execution_count": 12,
   "id": "aa22940f",
   "metadata": {},
   "outputs": [
    {
     "name": "stdout",
     "output_type": "stream",
     "text": [
      "WARNING:tensorflow:From C:\\Users\\Yash\\anaconda3\\lib\\site-packages\\keras\\src\\optimizers\\__init__.py:309: The name tf.train.Optimizer is deprecated. Please use tf.compat.v1.train.Optimizer instead.\n",
      "\n",
      "Epoch 1/10\n",
      "WARNING:tensorflow:From C:\\Users\\Yash\\anaconda3\\lib\\site-packages\\keras\\src\\utils\\tf_utils.py:492: The name tf.ragged.RaggedTensorValue is deprecated. Please use tf.compat.v1.ragged.RaggedTensorValue instead.\n",
      "\n",
      "95/95 [==============================] - 14s 37ms/step - loss: 0.0051\n",
      "Epoch 2/10\n",
      "95/95 [==============================] - 3s 37ms/step - loss: 1.3787e-04\n",
      "Epoch 3/10\n",
      "95/95 [==============================] - 3s 36ms/step - loss: 1.3713e-04\n",
      "Epoch 4/10\n",
      "95/95 [==============================] - 4s 40ms/step - loss: 1.3049e-04\n",
      "Epoch 5/10\n",
      "95/95 [==============================] - 3s 37ms/step - loss: 1.3295e-04\n",
      "Epoch 6/10\n",
      "95/95 [==============================] - 4s 37ms/step - loss: 1.2829e-04\n",
      "Epoch 7/10\n",
      "95/95 [==============================] - 3s 37ms/step - loss: 1.2325e-04\n",
      "Epoch 8/10\n",
      "95/95 [==============================] - 3s 37ms/step - loss: 1.2402e-04\n",
      "Epoch 9/10\n",
      "95/95 [==============================] - 3s 37ms/step - loss: 1.2097e-04\n",
      "Epoch 10/10\n",
      "95/95 [==============================] - 3s 37ms/step - loss: 1.1192e-04\n"
     ]
    },
    {
     "data": {
      "text/plain": [
       "<keras.src.callbacks.History at 0x1a258703c40>"
      ]
     },
     "execution_count": 12,
     "metadata": {},
     "output_type": "execute_result"
    }
   ],
   "source": [
    "# Step 5: Train the Model\n",
    "model.compile(optimizer='adam', loss='mean_squared_error')\n",
    "model.fit(X_train, y_train, epochs=10, batch_size=32)"
   ]
  },
  {
   "cell_type": "code",
   "execution_count": 16,
   "id": "2546b05d",
   "metadata": {},
   "outputs": [
    {
     "name": "stdout",
     "output_type": "stream",
     "text": [
      "24/24 [==============================] - 0s 16ms/step - loss: 5.2094e-04\n",
      "Test Loss: 0.0005209405208006501\n"
     ]
    }
   ],
   "source": [
    "# Step 6: Evaluate the Model\n",
    "test_loss = model.evaluate(X_test, y_test)\n",
    "print('Test Loss:', test_loss)"
   ]
  },
  {
   "cell_type": "code",
   "execution_count": 17,
   "id": "f630e38b",
   "metadata": {},
   "outputs": [
    {
     "name": "stdout",
     "output_type": "stream",
     "text": [
      "24/24 [==============================] - 0s 14ms/step\n"
     ]
    }
   ],
   "source": [
    "# Step 7: Make Predictions\n",
    "predictions = model.predict(X_test)\n",
    "predictions = scaler.inverse_transform(predictions)"
   ]
  },
  {
   "cell_type": "code",
   "execution_count": 18,
   "id": "73a3b33c",
   "metadata": {},
   "outputs": [
    {
     "data": {
      "image/png": "[encoded data removed]",
      "text/plain": [
       "<Figure size 864x432 with 1 Axes>"
      ]
     },
     "metadata": {
      "needs_background": "light"
     },
     "output_type": "display_data"
    }
   ],
   "source": [
    "plt.figure(figsize=(12, 6))\n",
    "plt.plot(df.index[split+seq_length:], df['Close'][split+seq_length:], label='Actual Prices')\n",
    "plt.plot(df.index[split+seq_length:], predictions, label='Predicted Prices')\n",
    "plt.xlabel('Date')\n",
    "plt.ylabel('Price')\n",
    "plt.title('Google Stock Prices - Actual vs Predicted')\n",
    "plt.legend()\n",
    "plt.show()"
   ]
  },
  {
   "cell_type": "code",
   "execution_count": null,
   "id": "48d7b050",
   "metadata": {},
   "outputs": [],
   "source": []
  },
  {
   "cell_type": "code",
   "execution_count": null,
   "id": "f7a557c5",
   "metadata": {},
   "outputs": [],
   "source": []
  },
  {
   "cell_type": "code",
   "execution_count": null,
   "id": "58e1c215",
   "metadata": {},
   "outputs": [],
   "source": []
  },
  {
   "cell_type": "code",
   "execution_count": null,
   "id": "05d85f73",
   "metadata": {},
   "outputs": [],
   "source": []
  },
  {
   "cell_type": "code",
   "execution_count": null,
   "id": "a91806b7",
   "metadata": {},
   "outputs": [],
   "source": []
  }
 ],
 "metadata": {
  "kernelspec": {
   "display_name": "Python 3 (ipykernel)",
   "language": "python",
   "name": "python3"
  },
  "language_info": {
   "codemirror_mode": {
    "name": "ipython",
    "version": 3
   },
   "file_extension": ".py",
   "mimetype": "text/x-python",
   "name": "python",
   "nbconvert_exporter": "python",
   "pygments_lexer": "ipython3",
   "version": "3.11.7"
  }
 },
 "nbformat": 4,
 "nbformat_minor": 5
}
